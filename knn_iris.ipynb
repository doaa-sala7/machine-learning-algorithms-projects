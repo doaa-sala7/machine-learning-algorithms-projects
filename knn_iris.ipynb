{
  "nbformat": 4,
  "nbformat_minor": 0,
  "metadata": {
    "colab": {
      "provenance": []
    },
    "kernelspec": {
      "name": "python3",
      "display_name": "Python 3"
    },
    "language_info": {
      "name": "python"
    },
    "accelerator": "GPU",
    "gpuClass": "standard"
  },
  "cells": [
    {
      "cell_type": "code",
      "execution_count": 1,
      "metadata": {
        "id": "dXjfa_AULFtG"
      },
      "outputs": [],
      "source": [
        "from sklearn.neighbors import KNeighborsClassifier\n",
        "from sklearn.datasets import load_iris\n",
        "from sklearn.model_selection import train_test_split\n",
        "from sklearn import metrics\n",
        "import numpy as np\n"
      ]
    },
    {
      "cell_type": "code",
      "source": [
        "iris_data = load_iris()\n",
        "x= iris_data.data\n",
        "y=iris_data.target"
      ],
      "metadata": {
        "id": "5hJ1pNEeLh9G"
      },
      "execution_count": 2,
      "outputs": []
    },
    {
      "cell_type": "code",
      "source": [
        "print(x.shape)\n",
        "print(y.shape)"
      ],
      "metadata": {
        "colab": {
          "base_uri": "https://localhost:8080/"
        },
        "id": "fAACWK3yL3CW",
        "outputId": "c3954351-9803-4bfb-d1f1-0c0ef90048aa"
      },
      "execution_count": 3,
      "outputs": [
        {
          "output_type": "stream",
          "name": "stdout",
          "text": [
            "(150, 4)\n",
            "(150,)\n"
          ]
        }
      ]
    },
    {
      "cell_type": "code",
      "source": [
        "train_x, test_x, train_y, test_y = train_test_split(x, y, test_size=0.2)\n",
        "knn = KNeighborsClassifier(n_neighbors=3)\n",
        "knn.fit(train_x,train_y)"
      ],
      "metadata": {
        "colab": {
          "base_uri": "https://localhost:8080/"
        },
        "id": "4MFtEXSNL-Y2",
        "outputId": "ce4504cb-9419-4f65-f077-8feea8c1e7cb"
      },
      "execution_count": 4,
      "outputs": [
        {
          "output_type": "execute_result",
          "data": {
            "text/plain": [
              "KNeighborsClassifier(n_neighbors=3)"
            ]
          },
          "metadata": {},
          "execution_count": 4
        }
      ]
    },
    {
      "cell_type": "code",
      "source": [
        "y_predict=knn.predict(test_x)"
      ],
      "metadata": {
        "id": "fyN8PEwgMXj1"
      },
      "execution_count": 5,
      "outputs": []
    },
    {
      "cell_type": "code",
      "source": [
        "acc=  metrics.accuracy_score(test_y, y_predict)*100\n",
        "acc"
      ],
      "metadata": {
        "colab": {
          "base_uri": "https://localhost:8080/"
        },
        "id": "WbacSOqqM3Kl",
        "outputId": "603c5c9c-a5fc-47f3-bd46-7eddf50ed7b4"
      },
      "execution_count": 6,
      "outputs": [
        {
          "output_type": "execute_result",
          "data": {
            "text/plain": [
              "93.33333333333333"
            ]
          },
          "metadata": {},
          "execution_count": 6
        }
      ]
    },
    {
      "cell_type": "code",
      "source": [
        "train_x.shape"
      ],
      "metadata": {
        "colab": {
          "base_uri": "https://localhost:8080/"
        },
        "id": "_zfrQQgANczm",
        "outputId": "3eb89010-8dd7-4dce-8821-63f5a2c37b82"
      },
      "execution_count": 7,
      "outputs": [
        {
          "output_type": "execute_result",
          "data": {
            "text/plain": [
              "(120, 4)"
            ]
          },
          "metadata": {},
          "execution_count": 7
        }
      ]
    },
    {
      "cell_type": "code",
      "source": [
        "# to get optimal # samples k\n",
        "acc_list=[]\n",
        "k_list=[]\n",
        "for i in range (1,120):\n",
        "  knn = KNeighborsClassifier(n_neighbors=i)\n",
        "  knn.fit(train_x,train_y)\n",
        "  y_predict=knn.predict(test_x)\n",
        "  acc=metrics.accuracy_score(test_y, y_predict)*100\n",
        "  acc_list.append(acc)\n",
        "  k_list.append(i)\n",
        " \n"
      ],
      "metadata": {
        "id": "CZPfVfKuN3DF"
      },
      "execution_count": 8,
      "outputs": []
    },
    {
      "cell_type": "code",
      "source": [
        "import matplotlib.pyplot as plt\n",
        "#My_list range( 119)\n",
        "\n",
        "plt.plot( k_list,acc_list)\n",
        "plt.show()\n",
        "print(k_list)\n",
        "print(acc_list)\n",
        "\n",
        "\n",
        "max_index = acc_list.index(96.66666666666667)\n",
        "print(max_index,max_value )\n",
        "# 100 over fit dont choose it\n"
      ],
      "metadata": {
        "colab": {
          "base_uri": "https://localhost:8080/",
          "height": 337
        },
        "id": "6Vd_jtPTRCV9",
        "outputId": "c0fc3c53-6901-45b0-a236-fc8d90d5186c"
      },
      "execution_count": 10,
      "outputs": [
        {
          "output_type": "display_data",
          "data": {
            "text/plain": [
              "<Figure size 432x288 with 1 Axes>"
            ],
            "image/png": "[encoded data removed]"
          },
          "metadata": {
            "needs_background": "light"
          }
        },
        {
          "output_type": "stream",
          "name": "stdout",
          "text": [
            "[1, 2, 3, 4, 5, 6, 7, 8, 9, 10, 11, 12, 13, 14, 15, 16, 17, 18, 19, 20, 21, 22, 23, 24, 25, 26, 27, 28, 29, 30, 31, 32, 33, 34, 35, 36, 37, 38, 39, 40, 41, 42, 43, 44, 45, 46, 47, 48, 49, 50, 51, 52, 53, 54, 55, 56, 57, 58, 59, 60, 61, 62, 63, 64, 65, 66, 67, 68, 69, 70, 71, 72, 73, 74, 75, 76, 77, 78, 79, 80, 81, 82, 83, 84, 85, 86, 87, 88, 89, 90, 91, 92, 93, 94, 95, 96, 97, 98, 99, 100, 101, 102, 103, 104, 105, 106, 107, 108, 109, 110, 111, 112, 113, 114, 115, 116, 117, 118, 119]\n",
            "[93.33333333333333, 93.33333333333333, 93.33333333333333, 93.33333333333333, 93.33333333333333, 93.33333333333333, 93.33333333333333, 100.0, 100.0, 100.0, 100.0, 100.0, 93.33333333333333, 96.66666666666667, 96.66666666666667, 96.66666666666667, 96.66666666666667, 96.66666666666667, 93.33333333333333, 96.66666666666667, 96.66666666666667, 96.66666666666667, 93.33333333333333, 100.0, 96.66666666666667, 96.66666666666667, 96.66666666666667, 96.66666666666667, 96.66666666666667, 96.66666666666667, 96.66666666666667, 96.66666666666667, 96.66666666666667, 96.66666666666667, 96.66666666666667, 96.66666666666667, 96.66666666666667, 96.66666666666667, 96.66666666666667, 96.66666666666667, 96.66666666666667, 93.33333333333333, 96.66666666666667, 93.33333333333333, 96.66666666666667, 96.66666666666667, 96.66666666666667, 96.66666666666667, 96.66666666666667, 96.66666666666667, 96.66666666666667, 96.66666666666667, 96.66666666666667, 93.33333333333333, 93.33333333333333, 93.33333333333333, 93.33333333333333, 93.33333333333333, 93.33333333333333, 93.33333333333333, 93.33333333333333, 93.33333333333333, 93.33333333333333, 93.33333333333333, 93.33333333333333, 93.33333333333333, 93.33333333333333, 96.66666666666667, 96.66666666666667, 96.66666666666667, 96.66666666666667, 93.33333333333333, 93.33333333333333, 93.33333333333333, 93.33333333333333, 60.0, 60.0, 60.0, 60.0, 60.0, 60.0, 60.0, 60.0, 60.0, 60.0, 60.0, 60.0, 60.0, 60.0, 60.0, 60.0, 60.0, 60.0, 60.0, 60.0, 60.0, 60.0, 60.0, 60.0, 60.0, 60.0, 60.0, 60.0, 56.666666666666664, 56.666666666666664, 56.666666666666664, 56.666666666666664, 53.333333333333336, 53.333333333333336, 53.333333333333336, 53.333333333333336, 53.333333333333336, 50.0, 46.666666666666664, 43.333333333333336, 43.333333333333336, 43.333333333333336, 26.666666666666668, 26.666666666666668]\n",
            "13 100.0\n"
          ]
        }
      ]
    }
  ]
}