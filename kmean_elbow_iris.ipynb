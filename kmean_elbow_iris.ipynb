{
  "nbformat": 4,
  "nbformat_minor": 0,
  "metadata": {
    "colab": {
      "provenance": []
    },
    "kernelspec": {
      "name": "python3",
      "display_name": "Python 3"
    },
    "language_info": {
      "name": "python"
    },
    "accelerator": "GPU",
    "gpuClass": "standard"
  },
  "cells": [
    {
      "cell_type": "code",
      "execution_count": 1,
      "metadata": {
        "id": "dXjfa_AULFtG"
      },
      "outputs": [],
      "source": [
        "from sklearn.cluster import KMeans\n",
        "from sklearn.datasets import load_iris\n",
        "from sklearn.model_selection import train_test_split\n",
        "from sklearn import metrics\n",
        "import numpy as np\n"
      ]
    },
    {
      "cell_type": "code",
      "source": [
        "iris_data = load_iris()\n",
        "x= iris_data.data\n",
        "y=iris_data.target"
      ],
      "metadata": {
        "id": "5hJ1pNEeLh9G"
      },
      "execution_count": 2,
      "outputs": []
    },
    {
      "cell_type": "code",
      "source": [
        "print(x.shape)\n",
        "print(y.shape)"
      ],
      "metadata": {
        "colab": {
          "base_uri": "https://localhost:8080/"
        },
        "id": "fAACWK3yL3CW",
        "outputId": "9704e45d-e688-4f3e-b258-8e7e56b78f95"
      },
      "execution_count": 3,
      "outputs": [
        {
          "output_type": "stream",
          "name": "stdout",
          "text": [
            "(150, 4)\n",
            "(150,)\n"
          ]
        }
      ]
    },
    {
      "cell_type": "code",
      "source": [
        "# train_x, test_x,train_y,test_y= train_test_split(x, y,test_size=0.3) donn't need to split\n",
        "kmeans = KMeans(n_clusters=3, random_state=0).fit(x)\n"
      ],
      "metadata": {
        "id": "4MFtEXSNL-Y2"
      },
      "execution_count": 4,
      "outputs": []
    },
    {
      "cell_type": "code",
      "source": [
        "inertias=[]\n",
        "k_list=[]\n",
        "K = range(1, 150)\n",
        "  \n",
        "for k in K:\n",
        "    # Building and fitting the model\n",
        "     kmeans = KMeans(n_clusters=k, random_state=0).fit(x)\n",
        "     inertias.append(kmeans.inertia_)\n",
        "     k_list.append(k)\n",
        "  \n"
      ],
      "metadata": {
        "id": "fyN8PEwgMXj1"
      },
      "execution_count": 8,
      "outputs": []
    },
    {
      "cell_type": "code",
      "source": [
        "import matplotlib.pyplot as plt\n",
        "plt.plot( k_list,inertias)\n",
        "plt.show()"
      ],
      "metadata": {
        "colab": {
          "base_uri": "https://localhost:8080/",
          "height": 265
        },
        "id": "2xLub1CohdA8",
        "outputId": "e37f097e-af5e-48df-c095-229a8670e15f"
      },
      "execution_count": 13,
      "outputs": [
        {
          "output_type": "display_data",
          "data": {
            "text/plain": [
              "<Figure size 432x288 with 1 Axes>"
            ],
            "image/png": "[encoded data removed]"
          },
          "metadata": {
            "needs_background": "light"
          }
        }
      ]
    },
    {
      "cell_type": "code",
      "source": [
        "import matplotlib.pyplot as plt\n",
        "plt.plot( k_list[0:8],inertias[0:8])\n",
        "plt.show()\n",
        "\n",
        "# choose frist num before saturation"
      ],
      "metadata": {
        "colab": {
          "base_uri": "https://localhost:8080/",
          "height": 265
        },
        "id": "UJFNygXwi9RB",
        "outputId": "5553a8ff-e8c3-4068-b13c-acf07e09a192"
      },
      "execution_count": 17,
      "outputs": [
        {
          "output_type": "display_data",
          "data": {
            "text/plain": [
              "<Figure size 432x288 with 1 Axes>"
            ],
            "image/png": "[encoded data removed]"
          },
          "metadata": {
            "needs_background": "light"
          }
        }
      ]
    },
    {
      "cell_type": "code",
      "source": [
        "plt.plot(range(1,11),inertia_list)\n",
        "plt.scatter(range(1,11),inertia_list)\n",
        "plt.scatter(3, inertia_list[3], marker=\"X\", s=300, c=\"r\")\n",
        "plt.xlabel(\"Number of Clusters\", size=13)\n",
        "plt.ylabel(\"Inertia Value\", size=13)\n",
        "plt.title(\"Different Inertia Values for Different Number of Clusters\", size=17)"
      ],
      "metadata": {
        "id": "fJonIhK_iL2s"
      },
      "execution_count": null,
      "outputs": []
    }
  ]
}