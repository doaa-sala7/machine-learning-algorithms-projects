{
  "nbformat": 4,
  "nbformat_minor": 0,
  "metadata": {
    "colab": {
      "provenance": []
    },
    "kernelspec": {
      "name": "python3",
      "display_name": "Python 3"
    },
    "language_info": {
      "name": "python"
    },
    "accelerator": "GPU",
    "gpuClass": "standard"
  },
  "cells": [
    {
      "cell_type": "code",
      "execution_count": 1,
      "metadata": {
        "id": "dXjfa_AULFtG"
      },
      "outputs": [],
      "source": [
        "from sklearn.cluster import KMeans\n",
        "from sklearn.datasets import load_breast_cancer\n",
        "from sklearn.model_selection import train_test_split\n",
        "from sklearn import metrics\n",
        "import numpy as np\n"
      ]
    },
    {
      "cell_type": "code",
      "source": [
        "breast_cancer_data = load_breast_cancer()\n",
        "x= breast_cancer_data.data\n",
        "y=breast_cancer_data.target"
      ],
      "metadata": {
        "id": "5hJ1pNEeLh9G"
      },
      "execution_count": 2,
      "outputs": []
    },
    {
      "cell_type": "code",
      "source": [
        "print(x.shape)\n",
        "print(y.shape)"
      ],
      "metadata": {
        "colab": {
          "base_uri": "https://localhost:8080/"
        },
        "id": "fAACWK3yL3CW",
        "outputId": "9e3c91b7-1724-4528-ac99-28bfdbe1bafd"
      },
      "execution_count": 3,
      "outputs": [
        {
          "output_type": "stream",
          "name": "stdout",
          "text": [
            "(569, 30)\n",
            "(569,)\n"
          ]
        }
      ]
    },
    {
      "cell_type": "code",
      "source": [
        "# train_x, test_x,train_y,test_y= train_test_split(x, y,test_size=0.3) donn't need to split\n",
        "kmeans = KMeans(n_clusters=2, random_state=0).fit(x)\n",
        "kmeans.inertia_\n"
      ],
      "metadata": {
        "colab": {
          "base_uri": "https://localhost:8080/"
        },
        "id": "4MFtEXSNL-Y2",
        "outputId": "be3f653f-7217-464a-9f1f-65f2f1ad3729"
      },
      "execution_count": 4,
      "outputs": [
        {
          "output_type": "execute_result",
          "data": {
            "text/plain": [
              "77943099.8782988"
            ]
          },
          "metadata": {},
          "execution_count": 4
        }
      ]
    }
  ]
}