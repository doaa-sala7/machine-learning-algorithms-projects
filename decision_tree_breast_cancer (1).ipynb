{
  "nbformat": 4,
  "nbformat_minor": 0,
  "metadata": {
    "colab": {
      "provenance": []
    },
    "kernelspec": {
      "name": "python3",
      "display_name": "Python 3"
    },
    "language_info": {
      "name": "python"
    },
    "accelerator": "GPU",
    "gpuClass": "standard"
  },
  "cells": [
    {
      "cell_type": "code",
      "execution_count": 1,
      "metadata": {
        "id": "dXjfa_AULFtG"
      },
      "outputs": [],
      "source": [
        "from sklearn import tree\n",
        "from sklearn.tree import DecisionTreeClassifier\n",
        "from sklearn.datasets import load_breast_cancer\n",
        "from sklearn.model_selection import train_test_split\n",
        "from sklearn import metrics\n",
        "import numpy as np\n",
        "\n",
        "from sklearn.metrics import accuracy_score, confusion_matrix\n",
        "\n",
        "from sklearn.ensemble import RandomForestRegressor"
      ]
    },
    {
      "cell_type": "code",
      "source": [
        "breast_cancer_data = load_breast_cancer()\n",
        "x= breast_cancer_data.data\n",
        "y=breast_cancer_data.target"
      ],
      "metadata": {
        "id": "5hJ1pNEeLh9G"
      },
      "execution_count": 2,
      "outputs": []
    },
    {
      "cell_type": "code",
      "source": [
        "x_train,x_test,y_train,y_test=train_test_split(x,y,test_size=0.2)"
      ],
      "metadata": {
        "id": "aTT6XG2T69xU"
      },
      "execution_count": 3,
      "outputs": []
    },
    {
      "cell_type": "code",
      "source": [
        "print(x.shape)\n",
        "print(y.shape)"
      ],
      "metadata": {
        "colab": {
          "base_uri": "https://localhost:8080/"
        },
        "id": "fAACWK3yL3CW",
        "outputId": "482b161a-054b-4913-a28d-6c7eaa9844a7"
      },
      "execution_count": 4,
      "outputs": [
        {
          "output_type": "stream",
          "name": "stdout",
          "text": [
            "(569, 30)\n",
            "(569,)\n"
          ]
        }
      ]
    },
    {
      "cell_type": "code",
      "source": [
        "\n",
        "DecisionTree_cb = tree.DecisionTreeClassifier(max_depth=5)\n",
        "clf = DecisionTree_cb.fit(x_train,y_train)\n",
        "\n"
      ],
      "metadata": {
        "id": "4MFtEXSNL-Y2"
      },
      "execution_count": 5,
      "outputs": []
    },
    {
      "cell_type": "code",
      "source": [
        "y_predict=DecisionTree_cb.predict(x_test)"
      ],
      "metadata": {
        "id": "ONWqpYFa7fpK"
      },
      "execution_count": 6,
      "outputs": []
    },
    {
      "cell_type": "code",
      "source": [
        "accuracy_score(y_test,y_predict)"
      ],
      "metadata": {
        "colab": {
          "base_uri": "https://localhost:8080/"
        },
        "id": "C-jNwkCh7rI6",
        "outputId": "4be57e39-76af-44b4-d0c6-9de1fd11c4c2"
      },
      "execution_count": 7,
      "outputs": [
        {
          "output_type": "execute_result",
          "data": {
            "text/plain": [
              "0.9649122807017544"
            ]
          },
          "metadata": {},
          "execution_count": 7
        }
      ]
    },
    {
      "cell_type": "code",
      "source": [
        "confusion_matrix(y_test,y_predict)"
      ],
      "metadata": {
        "colab": {
          "base_uri": "https://localhost:8080/"
        },
        "id": "wiCHgLEw8L-U",
        "outputId": "a49e76f7-277e-49d1-ced1-508cd4b731f9"
      },
      "execution_count": 8,
      "outputs": [
        {
          "output_type": "execute_result",
          "data": {
            "text/plain": [
              "array([[38,  2],\n",
              "       [ 2, 72]])"
            ]
          },
          "metadata": {},
          "execution_count": 8
        }
      ]
    },
    {
      "cell_type": "code",
      "source": [
        "acc_list=[]\n",
        "for i in range(1,31):\n",
        "  DecisionTree_cb = tree.DecisionTreeClassifier(max_depth=5)\n",
        "  clf = DecisionTree_cb.fit(x_train,y_train)\n",
        "  y_predict=DecisionTree_cb.predict(x_test)\n",
        "  acc=accuracy_score(y_test,y_predict)*100\n",
        "  print(i,acc)\n",
        "  acc_list.append(acc)\n",
        "\n",
        "\n"
      ],
      "metadata": {
        "colab": {
          "base_uri": "https://localhost:8080/"
        },
        "id": "cbHabrqC8WCp",
        "outputId": "9ad1a3cf-91fb-4e45-c56e-e78d4e41824d"
      },
      "execution_count": 9,
      "outputs": [
        {
          "output_type": "stream",
          "name": "stdout",
          "text": [
            "1 95.6140350877193\n",
            "2 95.6140350877193\n",
            "3 95.6140350877193\n",
            "4 96.49122807017544\n",
            "5 96.49122807017544\n",
            "6 95.6140350877193\n",
            "7 96.49122807017544\n",
            "8 95.6140350877193\n",
            "9 96.49122807017544\n",
            "10 94.73684210526315\n",
            "11 95.6140350877193\n",
            "12 94.73684210526315\n",
            "13 96.49122807017544\n",
            "14 95.6140350877193\n",
            "15 96.49122807017544\n",
            "16 95.6140350877193\n",
            "17 96.49122807017544\n",
            "18 96.49122807017544\n",
            "19 94.73684210526315\n",
            "20 95.6140350877193\n",
            "21 96.49122807017544\n",
            "22 95.6140350877193\n",
            "23 95.6140350877193\n",
            "24 96.49122807017544\n",
            "25 96.49122807017544\n",
            "26 95.6140350877193\n",
            "27 96.49122807017544\n",
            "28 95.6140350877193\n",
            "29 95.6140350877193\n",
            "30 95.6140350877193\n"
          ]
        }
      ]
    },
    {
      "cell_type": "code",
      "source": [
        "import matplotlib.pyplot as plt\n",
        "\n",
        "plt.plot(range(1,31),acc_list)\n",
        "plt.show()\n",
        "max=max(acc_list)\n",
        "print(max)\n",
        "\n",
        "print(acc_list.index(max))"
      ],
      "metadata": {
        "colab": {
          "base_uri": "https://localhost:8080/",
          "height": 300
        },
        "id": "tpuZBJr8-HE7",
        "outputId": "e4d2b232-3fcb-4434-ad85-7239d96872c0"
      },
      "execution_count": 10,
      "outputs": [
        {
          "output_type": "display_data",
          "data": {
            "text/plain": [
              "<Figure size 432x288 with 1 Axes>"
            ],
            "image/png": "[encoded data removed]"
          },
          "metadata": {
            "needs_background": "light"
          }
        },
        {
          "output_type": "stream",
          "name": "stdout",
          "text": [
            "96.49122807017544\n",
            "3\n"
          ]
        }
      ]
    },
    {
      "cell_type": "code",
      "source": [
        "random_forest= RandomForestRegressor(n_estimators=10)\n",
        "random_forest.fit(x_train,y_train)"
      ],
      "metadata": {
        "colab": {
          "base_uri": "https://localhost:8080/"
        },
        "id": "HDg8wr7FEFfS",
        "outputId": "38bdd30b-1530-4bdb-cbeb-ff266ac66710"
      },
      "execution_count": 11,
      "outputs": [
        {
          "output_type": "execute_result",
          "data": {
            "text/plain": [
              "RandomForestRegressor(n_estimators=10)"
            ]
          },
          "metadata": {},
          "execution_count": 11
        }
      ]
    },
    {
      "cell_type": "code",
      "source": [
        "y_predict=DecisionTree_cb.predict(x_test)\n",
        "acc=accuracy_score(y_test,y_predict)*100\n",
        "print(i,acc)\n",
        "acc_list.append(acc)"
      ],
      "metadata": {
        "colab": {
          "base_uri": "https://localhost:8080/"
        },
        "id": "EdNF84h3FNS6",
        "outputId": "ae968a6c-9d87-4371-c0b3-08e35b1eb82e"
      },
      "execution_count": 12,
      "outputs": [
        {
          "output_type": "stream",
          "name": "stdout",
          "text": [
            "30 95.6140350877193\n"
          ]
        }
      ]
    },
    {
      "cell_type": "code",
      "source": [
        "acc1_list=[]\n",
        "for i in range(1,31):\n",
        "  random_forest= RandomForestRegressor(n_estimators=i)\n",
        "  random_forest.fit(x_train,y_train)\n",
        "  y_predict1=random_forest.predict(x_test)\n",
        "  acc1=accuracy_score(y_test,y_predict1.round())*100\n",
        "  print(i,acc1)\n",
        "  acc1_list.append(acc1)\n",
        "\n",
        "\n"
      ],
      "metadata": {
        "colab": {
          "base_uri": "https://localhost:8080/"
        },
        "id": "2aobqov1FNLq",
        "outputId": "01401fab-a840-4723-c6ab-b8794a033e7d"
      },
      "execution_count": 13,
      "outputs": [
        {
          "output_type": "stream",
          "name": "stdout",
          "text": [
            "1 90.35087719298247\n",
            "2 87.71929824561403\n",
            "3 94.73684210526315\n",
            "4 88.59649122807018\n",
            "5 90.35087719298247\n",
            "6 92.10526315789474\n",
            "7 92.98245614035088\n",
            "8 92.98245614035088\n",
            "9 94.73684210526315\n",
            "10 88.59649122807018\n",
            "11 91.22807017543859\n",
            "12 93.85964912280701\n",
            "13 92.10526315789474\n",
            "14 91.22807017543859\n",
            "15 92.10526315789474\n",
            "16 94.73684210526315\n",
            "17 91.22807017543859\n",
            "18 93.85964912280701\n",
            "19 92.98245614035088\n",
            "20 92.98245614035088\n",
            "21 94.73684210526315\n",
            "22 92.98245614035088\n",
            "23 92.98245614035088\n",
            "24 90.35087719298247\n",
            "25 91.22807017543859\n",
            "26 92.10526315789474\n",
            "27 93.85964912280701\n",
            "28 91.22807017543859\n",
            "29 92.10526315789474\n",
            "30 93.85964912280701\n"
          ]
        }
      ]
    },
    {
      "cell_type": "code",
      "source": [
        "plt.plot(range(1,31),acc1_list)\n",
        "plt.show()\n"
      ],
      "metadata": {
        "colab": {
          "base_uri": "https://localhost:8080/",
          "height": 267
        },
        "id": "Nx4f_W3DGVHi",
        "outputId": "83086bce-4753-48e8-ac8e-3d89785f7d48"
      },
      "execution_count": 14,
      "outputs": [
        {
          "output_type": "display_data",
          "data": {
            "text/plain": [
              "<Figure size 432x288 with 1 Axes>"
            ],
            "image/png": "[encoded data removed]"
          },
          "metadata": {
            "needs_background": "light"
          }
        }
      ]
    },
    {
      "cell_type": "code",
      "source": [
        "fig = plt.figure(figsize=(25,20))\n",
        "_ = tree.plot_tree(random_forest, \n",
        "                   feature_names=breast_cancer_data.feature_names,  \n",
        "                   class_names=breast_cancer_data.target_names, filled=True)"
      ],
      "metadata": {
        "colab": {
          "base_uri": "https://localhost:8080/",
          "height": 1000
        },
        "id": "OSc_nw4PIOci",
        "outputId": "83942b22-cf36-46bf-93e5-b33bd558c5b9"
      },
      "execution_count": 22,
      "outputs": [
        {
          "output_type": "error",
          "ename": "AttributeError",
          "evalue": "ignored",
          "traceback": [
            "\u001b[0;31m---------------------------------------------------------------------------\u001b[0m",
            "\u001b[0;31mAttributeError\u001b[0m                            Traceback (most recent call last)",
            "\u001b[0;32m<ipython-input-22-bd6656a36e18>\u001b[0m in \u001b[0;36m<module>\u001b[0;34m\u001b[0m\n\u001b[1;32m      2\u001b[0m _ = tree.plot_tree(random_forest, \n\u001b[1;32m      3\u001b[0m                    \u001b[0mfeature_names\u001b[0m\u001b[0;34m=\u001b[0m\u001b[0mbreast_cancer_data\u001b[0m\u001b[0;34m.\u001b[0m\u001b[0mfeature_names\u001b[0m\u001b[0;34m,\u001b[0m\u001b[0;34m\u001b[0m\u001b[0;34m\u001b[0m\u001b[0m\n\u001b[0;32m----> 4\u001b[0;31m                    class_names=breast_cancer_data.target_names, filled=True)\n\u001b[0m",
            "\u001b[0;32m/usr/local/lib/python3.7/dist-packages/sklearn/tree/_export.py\u001b[0m in \u001b[0;36mplot_tree\u001b[0;34m(decision_tree, max_depth, feature_names, class_names, label, filled, impurity, node_ids, proportion, rounded, precision, ax, fontsize)\u001b[0m\n\u001b[1;32m    193\u001b[0m         \u001b[0mfontsize\u001b[0m\u001b[0;34m=\u001b[0m\u001b[0mfontsize\u001b[0m\u001b[0;34m,\u001b[0m\u001b[0;34m\u001b[0m\u001b[0;34m\u001b[0m\u001b[0m\n\u001b[1;32m    194\u001b[0m     )\n\u001b[0;32m--> 195\u001b[0;31m     \u001b[0;32mreturn\u001b[0m \u001b[0mexporter\u001b[0m\u001b[0;34m.\u001b[0m\u001b[0mexport\u001b[0m\u001b[0;34m(\u001b[0m\u001b[0mdecision_tree\u001b[0m\u001b[0;34m,\u001b[0m \u001b[0max\u001b[0m\u001b[0;34m=\u001b[0m\u001b[0max\u001b[0m\u001b[0;34m)\u001b[0m\u001b[0;34m\u001b[0m\u001b[0;34m\u001b[0m\u001b[0m\n\u001b[0m\u001b[1;32m    196\u001b[0m \u001b[0;34m\u001b[0m\u001b[0m\n\u001b[1;32m    197\u001b[0m \u001b[0;34m\u001b[0m\u001b[0m\n",
            "\u001b[0;32m/usr/local/lib/python3.7/dist-packages/sklearn/tree/_export.py\u001b[0m in \u001b[0;36mexport\u001b[0;34m(self, decision_tree, ax)\u001b[0m\n\u001b[1;32m    654\u001b[0m         \u001b[0max\u001b[0m\u001b[0;34m.\u001b[0m\u001b[0mclear\u001b[0m\u001b[0;34m(\u001b[0m\u001b[0;34m)\u001b[0m\u001b[0;34m\u001b[0m\u001b[0;34m\u001b[0m\u001b[0m\n\u001b[1;32m    655\u001b[0m         \u001b[0max\u001b[0m\u001b[0;34m.\u001b[0m\u001b[0mset_axis_off\u001b[0m\u001b[0;34m(\u001b[0m\u001b[0;34m)\u001b[0m\u001b[0;34m\u001b[0m\u001b[0;34m\u001b[0m\u001b[0m\n\u001b[0;32m--> 656\u001b[0;31m         \u001b[0mmy_tree\u001b[0m \u001b[0;34m=\u001b[0m \u001b[0mself\u001b[0m\u001b[0;34m.\u001b[0m\u001b[0m_make_tree\u001b[0m\u001b[0;34m(\u001b[0m\u001b[0;36m0\u001b[0m\u001b[0;34m,\u001b[0m \u001b[0mdecision_tree\u001b[0m\u001b[0;34m.\u001b[0m\u001b[0mtree_\u001b[0m\u001b[0;34m,\u001b[0m \u001b[0mdecision_tree\u001b[0m\u001b[0;34m.\u001b[0m\u001b[0mcriterion\u001b[0m\u001b[0;34m)\u001b[0m\u001b[0;34m\u001b[0m\u001b[0;34m\u001b[0m\u001b[0m\n\u001b[0m\u001b[1;32m    657\u001b[0m         \u001b[0mdraw_tree\u001b[0m \u001b[0;34m=\u001b[0m \u001b[0mbuchheim\u001b[0m\u001b[0;34m(\u001b[0m\u001b[0mmy_tree\u001b[0m\u001b[0;34m)\u001b[0m\u001b[0;34m\u001b[0m\u001b[0;34m\u001b[0m\u001b[0m\n\u001b[1;32m    658\u001b[0m \u001b[0;34m\u001b[0m\u001b[0m\n",
            "\u001b[0;31mAttributeError\u001b[0m: 'RandomForestRegressor' object has no attribute 'tree_'"
          ]
        },
        {
          "output_type": "display_data",
          "data": {
            "text/plain": [
              "<Figure size 1800x1440 with 1 Axes>"
            ],
            "image/png": "[encoded data removed]"
          },
          "metadata": {
            "needs_background": "light"
          }
        }
      ]
    }
  ]
}